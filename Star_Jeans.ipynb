{
 "cells": [
  {
   "cell_type": "markdown",
   "id": "dc3e6f2d",
   "metadata": {},
   "source": [
    "# Libraries"
   ]
  },
  {
   "cell_type": "code",
   "execution_count": 1,
   "id": "d37162b1",
   "metadata": {},
   "outputs": [],
   "source": [
    "import pandas as pd\n",
    "import numpy as np\n",
    "import requests\n",
    "import re\n",
    "\n",
    "from bs4 import BeautifulSoup\n",
    "from datetime import datetime"
   ]
  },
  {
   "cell_type": "markdown",
   "id": "195d189c",
   "metadata": {},
   "source": [
    "# 1. Project Plan"
   ]
  },
  {
   "cell_type": "markdown",
   "id": "9516d1cb",
   "metadata": {},
   "source": [
    "In this section, we created the plan to answer the questions asked by the partners. The questions were answered using *SAPE* method. *SAPE* is the method created by a Brazilian Data Scientist (Meigarom Lopes) in order to better organize the strategies to solve the business problems. The most appropriate translation of *SAPE* into English is *OPI*: output, process and input. "
   ]
  },
  {
   "cell_type": "markdown",
   "id": "ea9eebda",
   "metadata": {},
   "source": [
    "#### 1. What is the best jeans sale price?"
   ]
  },
  {
   "cell_type": "markdown",
   "id": "2ae9b697",
   "metadata": {},
   "source": [
    "Output\n",
    "\n",
    "1. How to answer the question.\n",
    "\n",
    "- Median of the products from the competitors website.\n",
    "\n",
    "2. Format\n",
    "\n",
    "- Table or chart.\n",
    "\n",
    "3. Mean of delivery.\n",
    "\n",
    "- Streamlit App."
   ]
  },
  {
   "cell_type": "markdown",
   "id": "58f1bc5a",
   "metadata": {},
   "source": [
    "Process\n",
    "\n",
    "1. Steps to calculate the answer.\n",
    "\n",
    "- Price median per category, type and color.\n",
    "\n",
    "2. What we will use to create the table and the chart.\n",
    "\n",
    "- Simulation using Google Sheets.\n",
    "\n",
    "3. How the final product will be.\n",
    "\n",
    "- A dashboard with a Streamlit App. It will be published to Heroku (cloud environment)."
   ]
  },
  {
   "cell_type": "markdown",
   "id": "d46cac57",
   "metadata": {},
   "source": [
    "Input\n",
    "\n",
    "1. H&M: https://www2.hm.com/en_us/men/products/jeans.html\n",
    "\n",
    "2. Macys: https://www.macys.com/shop/mens-clothing/mens-jeans"
   ]
  },
  {
   "cell_type": "markdown",
   "id": "1fcca8ec",
   "metadata": {},
   "source": [
    "#### 2. How many different types of jeans and colors should we choose?"
   ]
  },
  {
   "cell_type": "markdown",
   "id": "f0e5d5e8",
   "metadata": {},
   "source": [
    "This question must be answered by the previous plan. "
   ]
  },
  {
   "cell_type": "markdown",
   "id": "65a6c546",
   "metadata": {},
   "source": [
    "#### 3. What raw materials should we choose to make the jeans?  "
   ]
  },
  {
   "cell_type": "markdown",
   "id": "be416231",
   "metadata": {},
   "source": [
    "We may answer this question by the same procedure chosen in the previous plan and selecting the composition on the websites. "
   ]
  },
  {
   "cell_type": "markdown",
   "id": "bd84711b",
   "metadata": {},
   "source": [
    "# 2. Data Collection "
   ]
  },
  {
   "cell_type": "markdown",
   "id": "cb1a791d",
   "metadata": {},
   "source": [
    "In this section, we collected the attributes - defined in the previous section - from the American competitors website: **H&M** and **Macys**."
   ]
  },
  {
   "cell_type": "markdown",
   "id": "77a18ef9",
   "metadata": {},
   "source": [
    "## 2.1. H&M"
   ]
  },
  {
   "cell_type": "markdown",
   "id": "b43ddbdd",
   "metadata": {},
   "source": [
    "### 2.1.1 Id, product name, product type/category, price and datetime. "
   ]
  },
  {
   "cell_type": "markdown",
   "id": "09218b16",
   "metadata": {},
   "source": [
    "The attributes collected in this section are part of the showcase for men jeans from H&M website page - but datetime. "
   ]
  },
  {
   "cell_type": "code",
   "execution_count": 3,
   "id": "048adbd4",
   "metadata": {},
   "outputs": [],
   "source": [
    "def get_webpage(url01, headers):\n",
    "    page = requests.get(url01, headers=headers)\n",
    "    soup = BeautifulSoup(page.text, 'html.parser')\n",
    "\n",
    "    return soup\n",
    "    \n",
    "def collect_data(soup):    \n",
    "    products = soup.find('ul', 'products-listing small')\n",
    "    \n",
    "    product_id_category = products.find_all('article', 'hm-product-item')\n",
    "    product_name = products.find_all('a', 'link')\n",
    "    product_price = products.find_all('span', 'price regular')\n",
    "    \n",
    "    return product_id_category, product_name, product_price\n",
    "\n",
    "def get_id(product_id_category):\n",
    "    product_id = [p.get('data-articlecode') for p in product_id_category]\n",
    "    \n",
    "    return product_id\n",
    "\n",
    "def get_category(product_id_category):\n",
    "    product_category = [p.get('data-category') for p in product_id_category]\n",
    "    \n",
    "    return product_category\n",
    "\n",
    "def get_name(product_name):\n",
    "    product_name = [p.get_text() for p in product_name]\n",
    "    \n",
    "    return product_name\n",
    "\n",
    "def get_price(product_price):\n",
    "    product_price = [p.get_text() for p in product_price]\n",
    "\n",
    "    return product_price\n",
    "\n",
    "def create_dataframe(product_id, product_name, product_category, product_price):\n",
    "    data = pd.DataFrame([product_id, product_name, product_category, product_price]).T\n",
    "    data.columns = ['id', 'product_name', 'product_type', 'price']\n",
    "    \n",
    "    return data\n",
    "\n",
    "def set_datetime():\n",
    "    data['datetime'] = datetime.now().strftime('%Y-%m-%d %H:%M:%S')\n",
    "    \n",
    "    return data\n",
    "\n",
    "if __name__ == '__main__':\n",
    "    url01 = \"https://www2.hm.com/en_us/men/products/jeans.html?sort=stock&image-size=small&image=model&offset=0&page-size=72\"\n",
    "    headers = {'User-Agent': 'Mozilla/5.0 (Macintosh; Intel Mac OS X 10_11_5) AppleWebKit/537.36 (KHTML, like Gecko) Chrome/50.0.2661.102 Safari/537.36'}\n",
    "    \n",
    "    soup = get_webpage(url01, headers)\n",
    "    \n",
    "    product_id_category, product_name, product_price = collect_data(soup)\n",
    "    \n",
    "    product_id = get_id(product_id_category)\n",
    "    \n",
    "    product_category = get_category(product_id_category)\n",
    "    \n",
    "    product_name = get_name(product_name)\n",
    "    \n",
    "    product_price = get_price(product_price)\n",
    "    \n",
    "    data = create_dataframe(product_id, product_name, product_category, product_price)\n",
    "    \n",
    "    data = set_datetime()"
   ]
  },
  {
   "cell_type": "code",
   "execution_count": 4,
   "id": "ff267f73",
   "metadata": {},
   "outputs": [
    {
     "data": {
      "text/html": [
       "<div>\n",
       "<style scoped>\n",
       "    .dataframe tbody tr th:only-of-type {\n",
       "        vertical-align: middle;\n",
       "    }\n",
       "\n",
       "    .dataframe tbody tr th {\n",
       "        vertical-align: top;\n",
       "    }\n",
       "\n",
       "    .dataframe thead th {\n",
       "        text-align: right;\n",
       "    }\n",
       "</style>\n",
       "<table border=\"1\" class=\"dataframe\">\n",
       "  <thead>\n",
       "    <tr style=\"text-align: right;\">\n",
       "      <th></th>\n",
       "      <th>id</th>\n",
       "      <th>product_name</th>\n",
       "      <th>product_type</th>\n",
       "      <th>price</th>\n",
       "      <th>datetime</th>\n",
       "    </tr>\n",
       "  </thead>\n",
       "  <tbody>\n",
       "    <tr>\n",
       "      <th>0</th>\n",
       "      <td>0875105018</td>\n",
       "      <td>Relaxed Jeans</td>\n",
       "      <td>men_jeans_relaxed</td>\n",
       "      <td>$ 29.99</td>\n",
       "      <td>2022-01-27 11:27:44</td>\n",
       "    </tr>\n",
       "    <tr>\n",
       "      <th>1</th>\n",
       "      <td>1008549004</td>\n",
       "      <td>Regular Jeans</td>\n",
       "      <td>men_jeans_regular</td>\n",
       "      <td>$ 19.99</td>\n",
       "      <td>2022-01-27 11:27:44</td>\n",
       "    </tr>\n",
       "    <tr>\n",
       "      <th>2</th>\n",
       "      <td>1008549001</td>\n",
       "      <td>Regular Jeans</td>\n",
       "      <td>men_jeans_regular</td>\n",
       "      <td>$ 19.99</td>\n",
       "      <td>2022-01-27 11:27:44</td>\n",
       "    </tr>\n",
       "    <tr>\n",
       "      <th>3</th>\n",
       "      <td>0979945001</td>\n",
       "      <td>Loose Jeans</td>\n",
       "      <td>men_jeans_loose</td>\n",
       "      <td>$ 29.99</td>\n",
       "      <td>2022-01-27 11:27:44</td>\n",
       "    </tr>\n",
       "    <tr>\n",
       "      <th>4</th>\n",
       "      <td>0875105016</td>\n",
       "      <td>Relaxed Jeans</td>\n",
       "      <td>men_jeans_relaxed</td>\n",
       "      <td>$ 29.99</td>\n",
       "      <td>2022-01-27 11:27:44</td>\n",
       "    </tr>\n",
       "    <tr>\n",
       "      <th>...</th>\n",
       "      <td>...</td>\n",
       "      <td>...</td>\n",
       "      <td>...</td>\n",
       "      <td>...</td>\n",
       "      <td>...</td>\n",
       "    </tr>\n",
       "    <tr>\n",
       "      <th>66</th>\n",
       "      <td>0974202002</td>\n",
       "      <td>Regular Denim Joggers</td>\n",
       "      <td>men_jeans_loose</td>\n",
       "      <td>$ 29.99</td>\n",
       "      <td>2022-01-27 11:27:44</td>\n",
       "    </tr>\n",
       "    <tr>\n",
       "      <th>67</th>\n",
       "      <td>0985197004</td>\n",
       "      <td>Slim Jeans</td>\n",
       "      <td>men_jeans_slim</td>\n",
       "      <td>$ 19.99</td>\n",
       "      <td>2022-01-27 11:27:44</td>\n",
       "    </tr>\n",
       "    <tr>\n",
       "      <th>68</th>\n",
       "      <td>0993887002</td>\n",
       "      <td>Hybrid Regular Denim Joggers</td>\n",
       "      <td>men_jeans_regular</td>\n",
       "      <td>$ 44.99</td>\n",
       "      <td>2022-01-27 11:27:44</td>\n",
       "    </tr>\n",
       "    <tr>\n",
       "      <th>69</th>\n",
       "      <td>0927964002</td>\n",
       "      <td>Regular Tapered Crop Jeans</td>\n",
       "      <td>men_jeans_regular</td>\n",
       "      <td>$ 19.99</td>\n",
       "      <td>2022-01-27 11:27:44</td>\n",
       "    </tr>\n",
       "    <tr>\n",
       "      <th>70</th>\n",
       "      <td>0865734001</td>\n",
       "      <td>Relaxed Tapered Pull-on Jeans</td>\n",
       "      <td>men_jeans_relaxed</td>\n",
       "      <td>$ 29.99</td>\n",
       "      <td>2022-01-27 11:27:44</td>\n",
       "    </tr>\n",
       "  </tbody>\n",
       "</table>\n",
       "<p>71 rows × 5 columns</p>\n",
       "</div>"
      ],
      "text/plain": [
       "            id                   product_name       product_type    price  \\\n",
       "0   0875105018                  Relaxed Jeans  men_jeans_relaxed  $ 29.99   \n",
       "1   1008549004                  Regular Jeans  men_jeans_regular  $ 19.99   \n",
       "2   1008549001                  Regular Jeans  men_jeans_regular  $ 19.99   \n",
       "3   0979945001                    Loose Jeans    men_jeans_loose  $ 29.99   \n",
       "4   0875105016                  Relaxed Jeans  men_jeans_relaxed  $ 29.99   \n",
       "..         ...                            ...                ...      ...   \n",
       "66  0974202002          Regular Denim Joggers    men_jeans_loose  $ 29.99   \n",
       "67  0985197004                     Slim Jeans     men_jeans_slim  $ 19.99   \n",
       "68  0993887002   Hybrid Regular Denim Joggers  men_jeans_regular  $ 44.99   \n",
       "69  0927964002     Regular Tapered Crop Jeans  men_jeans_regular  $ 19.99   \n",
       "70  0865734001  Relaxed Tapered Pull-on Jeans  men_jeans_relaxed  $ 29.99   \n",
       "\n",
       "               datetime  \n",
       "0   2022-01-27 11:27:44  \n",
       "1   2022-01-27 11:27:44  \n",
       "2   2022-01-27 11:27:44  \n",
       "3   2022-01-27 11:27:44  \n",
       "4   2022-01-27 11:27:44  \n",
       "..                  ...  \n",
       "66  2022-01-27 11:27:44  \n",
       "67  2022-01-27 11:27:44  \n",
       "68  2022-01-27 11:27:44  \n",
       "69  2022-01-27 11:27:44  \n",
       "70  2022-01-27 11:27:44  \n",
       "\n",
       "[71 rows x 5 columns]"
      ]
     },
     "execution_count": 4,
     "metadata": {},
     "output_type": "execute_result"
    }
   ],
   "source": [
    "data"
   ]
  },
  {
   "cell_type": "code",
   "execution_count": null,
   "id": "4ba7a9da",
   "metadata": {},
   "outputs": [],
   "source": []
  }
 ],
 "metadata": {
  "kernelspec": {
   "display_name": "Python 3 (ipykernel)",
   "language": "python",
   "name": "python3"
  },
  "language_info": {
   "codemirror_mode": {
    "name": "ipython",
    "version": 3
   },
   "file_extension": ".py",
   "mimetype": "text/x-python",
   "name": "python",
   "nbconvert_exporter": "python",
   "pygments_lexer": "ipython3",
   "version": "3.9.6"
  }
 },
 "nbformat": 4,
 "nbformat_minor": 5
}
