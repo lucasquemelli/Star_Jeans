{
 "cells": [
  {
   "cell_type": "markdown",
   "id": "006f7c5e",
   "metadata": {},
   "source": [
    "# 1. Project Plan"
   ]
  },
  {
   "cell_type": "markdown",
   "id": "089c8ad9",
   "metadata": {},
   "source": [
    "In this section, we created the plan to answer the questions asked by the partners. The questions were answered using *SAPE* method. *SAPE* is the method created by a Brazilian Data Scientist (Meigarom Lopes) in order to better organize the strategies to solve the business problems. "
   ]
  },
  {
   "cell_type": "markdown",
   "id": "791f2ae3",
   "metadata": {},
   "source": [
    "#### 1. What is the best jeans sale price?"
   ]
  },
  {
   "cell_type": "code",
   "execution_count": null,
   "id": "079585fb",
   "metadata": {},
   "outputs": [],
   "source": []
  },
  {
   "cell_type": "markdown",
   "id": "78d9a052",
   "metadata": {},
   "source": [
    "#### 2. How many different types of jeans and colors should we choose?"
   ]
  },
  {
   "cell_type": "code",
   "execution_count": null,
   "id": "c5147a12",
   "metadata": {},
   "outputs": [],
   "source": []
  },
  {
   "cell_type": "markdown",
   "id": "392aa162",
   "metadata": {},
   "source": [
    "#### 3. What raw materials should we choose to make the jeans?  "
   ]
  },
  {
   "cell_type": "code",
   "execution_count": null,
   "id": "cc261970",
   "metadata": {},
   "outputs": [],
   "source": []
  }
 ],
 "metadata": {
  "kernelspec": {
   "display_name": "Python 3 (ipykernel)",
   "language": "python",
   "name": "python3"
  },
  "language_info": {
   "codemirror_mode": {
    "name": "ipython",
    "version": 3
   },
   "file_extension": ".py",
   "mimetype": "text/x-python",
   "name": "python",
   "nbconvert_exporter": "python",
   "pygments_lexer": "ipython3",
   "version": "3.9.6"
  }
 },
 "nbformat": 4,
 "nbformat_minor": 5
}
