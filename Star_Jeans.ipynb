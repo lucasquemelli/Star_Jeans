{
 "cells": [
  {
   "cell_type": "markdown",
   "id": "9188d59d",
   "metadata": {},
   "source": [
    "# 1. Project Plan"
   ]
  },
  {
   "cell_type": "markdown",
   "id": "0ce13151",
   "metadata": {},
   "source": [
    "In this section, we created the plan to answer the questions asked by the partners. The questions were answered using *SAPE* method. *SAPE* is the method created by a Brazilian Data Scientist (Meigarom Lopes) in order to better organize the strategies to solve the business problems. The most appropriate translation of *SAPE* into English is *OPI*: output, process and input. "
   ]
  },
  {
   "cell_type": "markdown",
   "id": "7ada8ab1",
   "metadata": {},
   "source": [
    "#### 1. What is the best jeans sale price?"
   ]
  },
  {
   "cell_type": "markdown",
   "id": "74f1a5d3",
   "metadata": {},
   "source": [
    "Output\n",
    "\n",
    "1. How to answer the question.\n",
    "\n",
    "- Median of the products from the competitors website.\n",
    "\n",
    "2. Format\n",
    "\n",
    "- Table or chart.\n",
    "\n",
    "3. Mean of delivery.\n",
    "\n",
    "- Streamlit App."
   ]
  },
  {
   "cell_type": "markdown",
   "id": "b5ba9f80",
   "metadata": {},
   "source": [
    "Process\n",
    "\n",
    "1. Steps to calculate the answer.\n",
    "\n",
    "- Price median per category, type and color.\n",
    "\n",
    "2. What we will use to create the table and the chart.\n",
    "\n",
    "- Simulation using Google Sheets.\n",
    "\n",
    "3. How the final product will be.\n",
    "\n",
    "- A dashboard with a Streamlit App. It will be published to Heroku (cloud environment)."
   ]
  },
  {
   "cell_type": "markdown",
   "id": "7f1146d2",
   "metadata": {},
   "source": [
    "Input\n",
    "\n",
    "1. H&M: https://www2.hm.com/en_us/men/products/jeans.html\n",
    "\n",
    "2. Macys: https://www.macys.com/shop/mens-clothing/mens-jeans"
   ]
  },
  {
   "cell_type": "markdown",
   "id": "43391f23",
   "metadata": {},
   "source": [
    "#### 2. How many different types of jeans and colors should we choose?"
   ]
  },
  {
   "cell_type": "markdown",
   "id": "b92742b1",
   "metadata": {},
   "source": [
    "This question must be answered by the previous plan. "
   ]
  },
  {
   "cell_type": "markdown",
   "id": "3073b0a7",
   "metadata": {},
   "source": [
    "#### 3. What raw materials should we choose to make the jeans?  "
   ]
  },
  {
   "cell_type": "markdown",
   "id": "92418fbd",
   "metadata": {},
   "source": [
    "We may answer this question by the same procedure chosen in the previous plan and selecting the composition on the websites. "
   ]
  },
  {
   "cell_type": "code",
   "execution_count": null,
   "id": "abbc345d",
   "metadata": {},
   "outputs": [],
   "source": []
  }
 ],
 "metadata": {
  "kernelspec": {
   "display_name": "Python 3 (ipykernel)",
   "language": "python",
   "name": "python3"
  },
  "language_info": {
   "codemirror_mode": {
    "name": "ipython",
    "version": 3
   },
   "file_extension": ".py",
   "mimetype": "text/x-python",
   "name": "python",
   "nbconvert_exporter": "python",
   "pygments_lexer": "ipython3",
   "version": "3.9.6"
  }
 },
 "nbformat": 4,
 "nbformat_minor": 5
}
