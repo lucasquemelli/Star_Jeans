{
  "nbformat": 4,
  "nbformat_minor": 0,
  "metadata": {
    "colab": {
      "provenance": [],
      "authorship_tag": "ABX9TyOBKZ6DsgqXhbF1k+odDC2s",
      "include_colab_link": true
    },
    "kernelspec": {
      "name": "python3",
      "display_name": "Python 3"
    },
    "language_info": {
      "name": "python"
    }
  },
  "cells": [
    {
      "cell_type": "markdown",
      "metadata": {
        "id": "view-in-github",
        "colab_type": "text"
      },
      "source": [
        "<a href=\"https://colab.research.google.com/github/lucasquemelli/Star_Jeans/blob/main/webscraping/webscraping_TrueReligion.ipynb\" target=\"_parent\"><img src=\"https://colab.research.google.com/assets/colab-badge.svg\" alt=\"Open In Colab\"/></a>"
      ]
    },
    {
      "cell_type": "markdown",
      "source": [
        "# Libraries"
      ],
      "metadata": {
        "id": "kyQuYxUOhqOz"
      }
    },
    {
      "cell_type": "code",
      "execution_count": null,
      "metadata": {
        "id": "r8SXbZVbii6j"
      },
      "outputs": [],
      "source": [
        "import pandas as pd\n",
        "import numpy as np\n",
        "import requests\n",
        "import re\n",
        "import math\n",
        "\n",
        "from bs4 import BeautifulSoup\n",
        "from datetime import datetime"
      ]
    },
    {
      "cell_type": "markdown",
      "source": [
        "# Data Collection"
      ],
      "metadata": {
        "id": "5Bgb6Ff4hsw0"
      }
    },
    {
      "cell_type": "code",
      "source": [
        "#URL (start = 0 and size = 190)\n",
        "url01 = \"https://www.truereligion.com/mens-jeans-silhouette?start=0&sz=190\"\n",
        "\n",
        "# Parameters\n",
        "headers = {'User-Agent': 'Mozilla/5.0 (Macintosh; Intel Mac OS X 10_11_5) AppleWebKit/537.36 (KHTML, like Gecko) Chrome/50.0.2661.102 Safari/537.36'}\n",
        "\n",
        "# Request to URL\n",
        "page = requests.get(url01, headers=headers)\n",
        "\n",
        "# Beautiful Soup object\n",
        "soup = BeautifulSoup(page.text, 'html.parser')\n",
        "\n",
        "# List which contains all products\n",
        "products = soup.find('ul', 'search-result-items tiles-container page-0')\n",
        "\n",
        "product_id_category = products.find_all('a', 'name-link product-name')\n",
        "\n",
        "product_price = products.find_all('span', itemprop='price')\n",
        "\n",
        "href = products.find_all('a', 'name-link product-name')\n",
        "\n",
        "product_id = [p.get('data-productid') for p in product_id_category]\n",
        "\n",
        "product_name = [p.get('data-name') for p in product_id_category]\n",
        "\n",
        "product_price = [p.get_text() for p in product_price]\n",
        "\n",
        "href = [p.get('href') for p in href]\n",
        "\n",
        "data = pd.DataFrame([product_id, href, product_name, product_price]).T\n",
        "data.columns = ['product_id', 'style_id', 'product_name', 'product_price']\n",
        "data['scrape_datetime'] = datetime.now().strftime('%Y-%m-%d %H:%M:%S')"
      ],
      "metadata": {
        "id": "uZpAhksjiXxw"
      },
      "execution_count": null,
      "outputs": []
    },
    {
      "cell_type": "code",
      "source": [
        "data['style_id'] = data['style_id'].apply(lambda x: int( re.search('\\d+', x).group(0)) if pd.notnull(x) else x)"
      ],
      "metadata": {
        "id": "jNALZZW7iuto"
      },
      "execution_count": null,
      "outputs": []
    },
    {
      "cell_type": "markdown",
      "source": [
        "# Data Cleaning"
      ],
      "metadata": {
        "id": "5OOphsgoi3Ch"
      }
    },
    {
      "cell_type": "code",
      "source": [
        "data['product_name'] = data['product_name'].apply(lambda x: x.replace(' ', '_').replace('\"', '').lower() )"
      ],
      "metadata": {
        "id": "OSn7foiPivnc"
      },
      "execution_count": null,
      "outputs": []
    },
    {
      "cell_type": "code",
      "source": [
        "data.to_csv(\"truereligion_clean.csv\")"
      ],
      "metadata": {
        "id": "lkhT-bwDjIav"
      },
      "execution_count": null,
      "outputs": []
    }
  ]
}